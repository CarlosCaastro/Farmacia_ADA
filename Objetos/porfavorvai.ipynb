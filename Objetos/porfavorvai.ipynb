{
 "cells": [
  {
   "cell_type": "code",
   "execution_count": 61,
   "metadata": {},
   "outputs": [],
   "source": [
    "class Medicamento:\n",
    "    '''\n",
    "    Classe principal de medicamentos de onde as classes Medicamentos Quimioterápicos e Medicamentos Fitoterápicos\n",
    "    irão herdar seus atributos e métodos principais.\n",
    "    '''\n",
    "\n",
    "    def __init__(self,nome:str,principal_composto:str,laboratorio:str,descricao:str,valor: float = 0.0) ->None:\n",
    "        self.nome = nome\n",
    "        self.principal_composto = principal_composto\n",
    "        self.laboratorio = laboratorio\n",
    "        self.descricao = descricao\n",
    "        if not isinstance(valor, (float, int)):\n",
    "            raise ValueError(\"O valor do medicamento deve ser um número.\")\n",
    "        self.__valor = float(valor)\n",
    "\n",
    "    @property\n",
    "    def get_valor(self) -> float:\n",
    "        return self.__valor\n",
    "    \n",
    "    @get_valor.setter\n",
    "    def set_valor(self, novo_valor: float) -> None:\n",
    "        if novo_valor >= 0:\n",
    "            self.__valor = novo_valor\n",
    "        else:\n",
    "            print(\"O valor do medicamento não pode ser negativo.\")\n",
    "    \n",
    "    def __repr__(self) -> str:\n",
    "        return f'Nome: {self.nome}\\nPrincipal Composto: {self.principal_composto}\\nLaboratório: {self.laboratorio}\\nDescrição: {self.descricao}\\nValor: {self.__valor:.2f}'\n",
    "    \n",
    "class MedicamentoQuimioterapico(Medicamento):\n",
    "    def __init__(self, nome: str, principal_composto: str, laboratorio: str, descricao: str, valor: float = 0.0, necessita_receita:str = \"Sim\") -> None:\n",
    "        self.necessita_receita = necessita_receita\n",
    "        super().__init__(nome, principal_composto, laboratorio, descricao, valor)\n",
    "        \n",
    "    def __repr__(self) -> str:\n",
    "        return f'Nome: {self.nome}\\nPrincipal Composto: {self.principal_composto}\\nLaboratório: {self.laboratorio}\\nDescrição: {self.descricao}\\nValor: {self.get_valor:.2f}\\nNecessita Receita: {self.necessita_receita}'\n",
    "    \n",
    "    @property\n",
    "    def get_valor(self) -> float:\n",
    "        return self._Medicamento__valor\n",
    "\n",
    "    @Medicamento.set_valor.setter\n",
    "    def valor(self, novo_valor: float) -> None:\n",
    "        if novo_valor >= 0:\n",
    "            self._Medicamento__valor = novo_valor\n",
    "        else:\n",
    "            print(\"O valor do medicamento não pode ser negativo.\")\n",
    "\n",
    "class MedicamentoFitoterapico(Medicamento):\n",
    "    def __init__(self, nome: str, principal_composto: str, laboratorio: str, descricao: str, valor: float = 0.0) -> None:\n",
    "        super().__init__(nome, principal_composto, laboratorio, descricao, valor)\n",
    "    \n",
    "    @property\n",
    "    def get_valor(self) -> float:\n",
    "        return self._Medicamento__valor\n",
    "\n",
    "    @Medicamento.set_valor.setter\n",
    "    def valor(self, novo_valor: float) -> None:\n",
    "        if novo_valor >= 0:\n",
    "            self._Medicamento__valor = novo_valor\n",
    "        else:\n",
    "            print(\"O valor do medicamento não pode ser negativo.\")"
   ]
  },
  {
   "cell_type": "code",
   "execution_count": 62,
   "metadata": {},
   "outputs": [],
   "source": [
    "med1 = MedicamentoFitoterapico(\"Luva\",\"Latex\",\"Lab1\",\"Luva boa\",50)\n",
    "med2 = MedicamentoQuimioterapico(\"Luva2\",\"Latex\",\"Lab1\",\"Luva boa\",25.0)\n",
    "med3 = MedicamentoQuimioterapico(\"Luva2\",\"Latex\",\"Lab1\",\"Luva boa\",100)\n",
    "#med4 = MedicamentoFitoterapico(\"Luva\",\"Latex\",\"Lab1\",\"Luva boa\",10)\n",
    "medicamentos = [med1,med2,med3]"
   ]
  },
  {
   "cell_type": "code",
   "execution_count": 63,
   "metadata": {},
   "outputs": [
    {
     "name": "stdout",
     "output_type": "stream",
     "text": [
      "Nome: Luva\n",
      "Principal Composto: Latex\n",
      "Laboratório: Lab1\n",
      "Descrição: Luva boa\n",
      "Valor: 50.00\n"
     ]
    }
   ],
   "source": [
    "print(med1)"
   ]
  },
  {
   "cell_type": "code",
   "execution_count": 64,
   "metadata": {},
   "outputs": [
    {
     "name": "stdout",
     "output_type": "stream",
     "text": [
      "Nome: Luva2\n",
      "Principal Composto: Latex\n",
      "Laboratório: Lab1\n",
      "Descrição: Luva boa\n",
      "Valor: 25.00\n",
      "Necessita Receita: Sim\n"
     ]
    }
   ],
   "source": [
    "print(med2)"
   ]
  },
  {
   "cell_type": "code",
   "execution_count": 65,
   "metadata": {},
   "outputs": [
    {
     "name": "stdout",
     "output_type": "stream",
     "text": [
      "Nome: Luva2\n",
      "Principal Composto: Latex\n",
      "Laboratório: Lab1\n",
      "Descrição: Luva boa\n",
      "Valor: 100.00\n",
      "Necessita Receita: Sim\n"
     ]
    }
   ],
   "source": [
    "print(med3)"
   ]
  },
  {
   "cell_type": "code",
   "execution_count": 81,
   "metadata": {},
   "outputs": [],
   "source": [
    "from datetime import datetime\n",
    "from medicamentos import Medicamento,MedicamentoQuimioterapico\n",
    "from clientes import Cliente\n",
    "\n",
    "class Vendas:\n",
    "    def __init__(self, cliente:Cliente, produtos: list[Medicamento]):\n",
    "        self.cliente = cliente\n",
    "        self.produtos = produtos\n",
    "        self.data_hora = datetime.now()\n",
    "        self.valor_total = sum(produto.get_valor for produto in produtos)\n",
    "        self.valor_com_desconto = self.aplicar_descontos()\n",
    "    \n",
    "    def calcular_idade(self) -> int:\n",
    "        hoje = datetime.now().date()\n",
    "        idade = hoje.year - self.cliente.data_nascimento.year - ((hoje.month, hoje.day) < (self.cliente.data_nascimento.month, self.cliente.data_nascimento.day))\n",
    "        return idade\n",
    "    \n",
    "    def aplicar_descontos(self) -> float:\n",
    "        idade = self.calcular_idade()\n",
    "        valor_desconto = 0.0\n",
    "        \n",
    "        if idade > 65:\n",
    "            valor_desconto = self.valor_total * 0.2\n",
    "        if self.valor_total > 150:\n",
    "            valor_desconto = max(valor_desconto, self.valor_total * 0.1)\n",
    "        \n",
    "        valor_final = self.valor_total - valor_desconto\n",
    "        return valor_final\n",
    "\n",
    "    def verificar_receita(self) -> bool:\n",
    "        for produto in self.produtos:\n",
    "            if isinstance(produto, MedicamentoQuimioterapico):\n",
    "                resposta = input(f\"Você verificou a receita para o medicamento controlado '{produto.nome}'? (S/N): \")\n",
    "                if resposta.lower() == \"n\":\n",
    "                    print(\"Venda cancelada devido à falta de verificação de receita.\")\n",
    "                    return False\n",
    "        return True\n",
    "    \n",
    "    def __repr__(self) -> str:\n",
    "        produtos_descricao = \", \".join(produto.nome for produto in self.produtos)\n",
    "        return f\"Data/Hora: {self.data_hora}\\nCliente: {self.cliente.nome}\\nValor Total: R${self.valor_com_desconto:.2f}\\nProdutos: {produtos_descricao}\""
   ]
  },
  {
   "cell_type": "code",
   "execution_count": 82,
   "metadata": {},
   "outputs": [],
   "source": [
    "cliente = Cliente(\"06280119386\",\"Carlos\",\"22/11/1993\")"
   ]
  },
  {
   "cell_type": "code",
   "execution_count": 83,
   "metadata": {},
   "outputs": [],
   "source": [
    "venda3 = Vendas(cliente=cliente,produtos=medicamentos)"
   ]
  },
  {
   "cell_type": "code",
   "execution_count": 84,
   "metadata": {},
   "outputs": [
    {
     "data": {
      "text/plain": [
       "175.0"
      ]
     },
     "execution_count": 84,
     "metadata": {},
     "output_type": "execute_result"
    }
   ],
   "source": [
    "venda3.valor_total"
   ]
  },
  {
   "cell_type": "code",
   "execution_count": 85,
   "metadata": {},
   "outputs": [
    {
     "name": "stdout",
     "output_type": "stream",
     "text": [
      "Data/Hora: 2023-08-18 19:41:42.537394\n",
      "Cliente: Carlos\n",
      "Valor Total: R$157.50\n",
      "Produtos: Luva, Luva2, Luva2\n"
     ]
    }
   ],
   "source": [
    "print(venda3)"
   ]
  },
  {
   "cell_type": "code",
   "execution_count": null,
   "metadata": {},
   "outputs": [],
   "source": []
  }
 ],
 "metadata": {
  "kernelspec": {
   "display_name": "Python 3",
   "language": "python",
   "name": "python3"
  },
  "language_info": {
   "codemirror_mode": {
    "name": "ipython",
    "version": 3
   },
   "file_extension": ".py",
   "mimetype": "text/x-python",
   "name": "python",
   "nbconvert_exporter": "python",
   "pygments_lexer": "ipython3",
   "version": "3.9.0"
  },
  "orig_nbformat": 4,
  "vscode": {
   "interpreter": {
    "hash": "11938c6bc6919ae2720b4d5011047913343b08a43b18698fd82dedb0d4417594"
   }
  }
 },
 "nbformat": 4,
 "nbformat_minor": 2
}
