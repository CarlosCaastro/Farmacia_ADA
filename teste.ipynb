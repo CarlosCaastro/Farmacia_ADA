{
 "cells": [
  {
   "cell_type": "code",
   "execution_count": 27,
   "metadata": {},
   "outputs": [],
   "source": [
    "from datetime import date,datetime\n",
    "class Cliente:\n",
    "    '''\n",
    "    A classe cliente irá receber informações de CPF no formato xxxxxxxxxxx, sem caracteres especiais ou caracteres de texo.\n",
    "    A informação de nome não pode conter valores númericos.\n",
    "    Os valores de data precisam ser inseridor no formado dd/mm/yyyy\n",
    "    '''\n",
    "    def __init__(self,cpf:str,nome:str,data_nascimento:str) -> None:\n",
    "        cpf = self.__normalizador_cpf(cpf)\n",
    "\n",
    "        if self.__validador_cpf(cpf):\n",
    "            self.cpf = cpf\n",
    "        else:\n",
    "            raise ValueError (\"CPF inválido. Digite somente os números do CPF ou complete o CPF.\")\n",
    "        \n",
    "        if not self.__validador_nome(nome):\n",
    "            raise ValueError(\"Nome inválido. Digite o nome, sem nenhum  número e sem caracter especial.\")\n",
    "        else:\n",
    "            self.nome = nome\n",
    "\n",
    "        try:\n",
    "            self.data_nascimento = self.__transform_data(data_nascimento)\n",
    "        except ValueError:\n",
    "            raise ValueError(\"Data inválida. Digite a data no formato dd/mm/yyyy\")\n",
    "\n",
    "    def __repr__(self) -> str:\n",
    "        return f'CPF: {self.cpf}\\nNome: {self.nome}\\nData de Nascimento: {self.data_nascimento}'\n",
    "    \n",
    "    def __normalizador_cpf (self,cpf:str) -> str:\n",
    "        return ''.join(filter(str.isdigit,cpf))\n",
    "\n",
    "    def __validador_cpf(self,cpf:str) -> bool:\n",
    "        return len(cpf) == 11\n",
    "    \n",
    "    def __validador_nome(self,nome:str) -> bool:\n",
    "        return nome.isalpha()\n",
    "\n",
    "    def __transform_data(self,data) -> date:\n",
    "        return datetime.strptime(data, '%d/%m/%Y').date()"
   ]
  },
  {
   "cell_type": "code",
   "execution_count": 22,
   "metadata": {},
   "outputs": [],
   "source": [
    "testeee3 = Cliente('062.801.193-86','Carlos','11/12/2012')"
   ]
  },
  {
   "cell_type": "code",
   "execution_count": 23,
   "metadata": {},
   "outputs": [
    {
     "name": "stdout",
     "output_type": "stream",
     "text": [
      "CPF: 06280119386\n",
      "Nome: Carlos\n",
      "Data de Nascimento: 2012-12-11\n"
     ]
    }
   ],
   "source": [
    "print(testeee3.data_nascimento)"
   ]
  },
  {
   "cell_type": "code",
   "execution_count": 25,
   "metadata": {},
   "outputs": [],
   "source": [
    "class Cadastro:\n",
    "    def __init__(self) -> None:\n",
    "        self.cadastro = {}\n",
    "    \n",
    "    def cadastrar_cliente(self, cpf:str, nome:str, data_nascimento:str) -> None:\n",
    "        if cpf in self.cadastro:\n",
    "            print(\"Cliente já cadastrado.\")\n",
    "        else:\n",
    "            cliente = Cliente(cpf,nome,data_nascimento)\n",
    "            self.cadastro[cpf] = cliente\n",
    "\n",
    "    def alterar_cadastro(self,cpf:str) -> None:\n",
    "\n",
    "        if cpf not in self.cadastro:\n",
    "            print(\"CPF não cadastrado.\")\n",
    "        \n",
    "        cliente = self.cadastro[cpf]\n",
    "        alteracao = input(int(\"Digite o número referente ao que deseja Alterar:\\n1 - Alterar nome Cadastrato\\n 2 - Alterar Data de Nascimento:\"))\n",
    "        \n",
    "        if alteracao == 1:\n",
    "            novo_nome = input('Digite o novo nome: ')\n",
    "            cliente.nome = novo_nome\n",
    "        elif alteracao == 2:\n",
    "            nova_data = input('Digite a nova data de nascimento: ')\n",
    "            cliente.data_nascimento = nova_data\n",
    "\n",
    "        self.cadastro[cliente.cpf] = cliente\n",
    "    \n",
    "    def __repr__(self) -> str:\n",
    "        repr_str = \"\"\n",
    "        for cpf, cliente in self.cadastro.items():\n",
    "            repr_str += f'CPF: {cpf}\\n{cliente}\\n'\n",
    "        return repr_str"
   ]
  },
  {
   "cell_type": "code",
   "execution_count": 61,
   "metadata": {},
   "outputs": [],
   "source": [
    "class Medicamento:\n",
    "    '''\n",
    "    Classe principal de medicamentos de onde as classes Medicamentos Quimioterápicos e Medicamentos Fitoterápicos\n",
    "    irão herdar seus atributos e métodos principais.\n",
    "    '''\n",
    "\n",
    "    def __init__(self,nome:str,principal_composto:str,laboratorio:str,descricao:str,necessita_receita:str = \"Não\",valor: float = 0.0) ->None:\n",
    "        self.nome = nome\n",
    "        self.principal_composto = principal_composto\n",
    "        self.laboratorio = laboratorio\n",
    "        self.descricao = descricao\n",
    "        self.necessita_receita = necessita_receita\n",
    "        self.__valor = valor\n",
    "\n",
    "    @property\n",
    "    def get_valor(self) -> float:\n",
    "        return self.__valor\n",
    "    \n",
    "    @get_valor.setter\n",
    "    def set_valor(self, novo_valor: float) -> None:\n",
    "        if novo_valor >= 0:\n",
    "            self.__valor = novo_valor\n",
    "        else:\n",
    "            print(\"O valor do medicamento não pode ser negativo.\")\n",
    "    \n",
    "    def __repr__(self) -> str:\n",
    "        receita = \"Sim\" if self.necessita_receita else \"Não\"\n",
    "        return f'Nome: {self.nome}\\nPrincipal Composto: {self.principal_composto}\\nLaboratório: {self.laboratorio}\\nDescrição: {self.descricao}\\nNecessita Receita: {receita}\\nValor: {self.__valor:.2f}'\n",
    "    \n",
    "class MedicamentoQuimioterapico(Medicamento):\n",
    "    def __init__(self, nome: str, principal_composto: str, laboratorio: str, descricao: str, necessita_receita: str = \"Sim\", valor: float = 0.0) -> None:\n",
    "        super().__init__(nome, principal_composto, laboratorio, descricao, necessita_receita, valor)\n",
    "    \n",
    "    @Medicamento.set_valor.setter\n",
    "    def valor(self, novo_valor: float) -> None:\n",
    "        if novo_valor >= 0:\n",
    "            self._Medicamento__valor = novo_valor\n",
    "        else:\n",
    "            print(\"O valor do medicamento não pode ser negativo.\")\n",
    "\n",
    "class MedicamentoFitoterapico(Medicamento):\n",
    "    def __init__(self, nome: str, principal_composto: str, laboratorio: str, descricao: str, necessita_receita: str = \"Não\", valor: float = 0.0) -> None:\n",
    "        super().__init__(nome, principal_composto, laboratorio, descricao, necessita_receita, valor)\n",
    "    \n",
    "    @Medicamento.set_valor.setter\n",
    "    def valor(self, novo_valor: float) -> None:\n",
    "        if novo_valor >= 0:\n",
    "            self._Medicamento__valor = novo_valor\n",
    "        else:\n",
    "            print(\"O valor do medicamento não pode ser negativo.\")"
   ]
  },
  {
   "cell_type": "code",
   "execution_count": 36,
   "metadata": {},
   "outputs": [
    {
     "name": "stdout",
     "output_type": "stream",
     "text": [
      "Nome: A\n",
      "Principal Composto: AB\n",
      "Laboratório: CD\n",
      "Descrição: FazNAda\n",
      "Necessita Receita: Sim\n",
      "Valor: 55.10\n"
     ]
    }
   ],
   "source": [
    "\n",
    "Teste_Quimo = MedicamentoQuimioterapico(\"A\", \"AB\", \"CD\", \"FazNAda\", valor=55.1)\n",
    "print(Teste_Quimo)"
   ]
  },
  {
   "cell_type": "code",
   "execution_count": 41,
   "metadata": {},
   "outputs": [],
   "source": [
    "Teste_Quimo.valor = 20.5"
   ]
  },
  {
   "cell_type": "code",
   "execution_count": 62,
   "metadata": {},
   "outputs": [
    {
     "name": "stdout",
     "output_type": "stream",
     "text": [
      "Nome: A\n",
      "Principal Composto: AB\n",
      "Laboratório: CD\n",
      "Descrição: FazNAda\n",
      "Necessita Receita: Sim\n",
      "Valor: 55.10\n",
      "Medicamento após a alteração:\n",
      "Nome: A\n",
      "Principal Composto: AB\n",
      "Laboratório: CD\n",
      "Descrição: FazNAda\n",
      "Necessita Receita: Sim\n",
      "Valor: 20.00\n"
     ]
    }
   ],
   "source": [
    "Teste_Fito = MedicamentoFitoterapico(\"A\", \"AB\", \"CD\", \"FazNAda\", valor=55.1)\n",
    "print(Teste_Fito)\n",
    "\n",
    "novo_valor = float(input(\"Digite o novo valor do medicamento: \"))\n",
    "Teste_Fito.valor = novo_valor\n",
    "\n",
    "print(\"Medicamento após a alteração:\")\n",
    "print(Teste_Fito)"
   ]
  },
  {
   "cell_type": "code",
   "execution_count": 1,
   "metadata": {},
   "outputs": [],
   "source": [
    "class Laboratorio:\n",
    "    '''\n",
    "    Classe para gerar os objetos de laboratório.\n",
    "    '''\n",
    "\n",
    "    def __init__(self, nome: str, endereco: str, ddd:str,telefone: str, cidade: str, estado: str) -> None:\n",
    "\n",
    "        if len(ddd) != 2:\n",
    "            raise ValueError(\"O DDD deve conter exatamente dois caracteres.\")\n",
    "        \n",
    "        elif ddd == \"00\":\n",
    "            raise ValueError(\"O DDD não pode ser '00'.\")\n",
    "\n",
    "        elif len(telefone) != 9:\n",
    "            raise ValueError(\"O numero de telefone precisa conter nove caracteres. Verifique se não esqueceu de colocar o digito 9 na frente.\")\n",
    "        \n",
    "        self.nome = nome\n",
    "        self.endereco = endereco\n",
    "        self.ddd = ddd.zfill(3)\n",
    "        self.telefone = telefone\n",
    "        self.cidade = cidade\n",
    "        self.estado = estado\n",
    "\n",
    "    def __repr__(self) -> str:\n",
    "        return f'Nome: {self.nome}\\nEndereço: {self.endereco}\\nDDD: {self.ddd}\\nTelefone: {self.telefone}\\nCidade: {self.cidade}\\nEstado: {self.estado}'"
   ]
  },
  {
   "cell_type": "code",
   "execution_count": 6,
   "metadata": {},
   "outputs": [],
   "source": [
    "teste_lab = Laboratorio('a','b','85','999999999','fortal','foda')"
   ]
  },
  {
   "cell_type": "code",
   "execution_count": 20,
   "metadata": {},
   "outputs": [],
   "source": [
    "class Medicamento:\n",
    "    '''\n",
    "    Classe principal de medicamentos de onde as classes Medicamentos Quimioterápicos e Medicamentos Fitoterápicos\n",
    "    irão herdar seus atributos e métodos principais.\n",
    "    '''\n",
    "\n",
    "    def __init__(self,nome:str,principal_composto:str,laboratorio:str,descricao:str,valor: float = 0.0) ->None:\n",
    "        self.nome = nome\n",
    "        self.principal_composto = principal_composto\n",
    "        self.laboratorio = laboratorio\n",
    "        self.descricao = descricao\n",
    "        if not isinstance(valor, (float, int)):\n",
    "            raise ValueError(\"O valor do medicamento deve ser um número.\")\n",
    "        self.__valor = float(valor)\n",
    "\n",
    "    @property\n",
    "    def get_valor(self) -> float:\n",
    "        return self.__valor\n",
    "    \n",
    "    @get_valor.setter\n",
    "    def set_valor(self, novo_valor: float) -> None:\n",
    "        if novo_valor >= 0:\n",
    "            self.__valor = novo_valor\n",
    "        else:\n",
    "            print(\"O valor do medicamento não pode ser negativo.\")\n",
    "    \n",
    "    def __repr__(self) -> str:\n",
    "        return f'Nome: {self.nome}\\nPrincipal Composto: {self.principal_composto}\\nLaboratório: {self.laboratorio}\\nDescrição: {self.descricao}\\nValor: {self.__valor:.2f}'\n",
    "    \n",
    "class MedicamentoQuimioterapico(Medicamento):\n",
    "    def __init__(self, nome: str, principal_composto: str, laboratorio: str, descricao: str, necessita_receita: str = \"Sim\", valor: float = 0.0) -> None:\n",
    "        self.necessita_receita = necessita_receita\n",
    "        super().__init__(nome, principal_composto, laboratorio, descricao, valor)\n",
    "\n",
    "    def __repr__(self) -> str:\n",
    "        return f'Nome: {self.nome}\\nPrincipal Composto: {self.principal_composto}\\nLaboratório: {self.laboratorio}\\nDescrição: {self.descricao}\\nNecessita Receita: {self.necessita_receita}\\nValor: {self.get_valor:.2f}'\n",
    "    \n",
    "    @Medicamento.set_valor.setter\n",
    "    def valor(self, novo_valor: float) -> None:\n",
    "        if novo_valor >= 0:\n",
    "            self._Medicamento__valor = novo_valor\n",
    "        else:\n",
    "            print(\"O valor do medicamento não pode ser negativo.\")\n",
    "\n",
    "class MedicamentoFitoterapico(Medicamento):\n",
    "    def __init__(self, nome: str, principal_composto: str, laboratorio: str, descricao: str, valor: float = 0.0) -> None:\n",
    "        super().__init__(nome, principal_composto, laboratorio, descricao, valor)\n",
    "    \n",
    "    @Medicamento.set_valor.setter\n",
    "    def valor(self, novo_valor: float) -> None:\n",
    "        if novo_valor >= 0:\n",
    "            self._Medicamento__valor = novo_valor\n",
    "        else:\n",
    "            print(\"O valor do medicamento não pode ser negativo.\")"
   ]
  },
  {
   "cell_type": "code",
   "execution_count": 21,
   "metadata": {},
   "outputs": [],
   "source": [
    "Teste_Fito = MedicamentoQuimioterapico(\"A\", \"AB\", \"CD\", \"FazNAda\", valor=55.1)"
   ]
  },
  {
   "cell_type": "code",
   "execution_count": 22,
   "metadata": {},
   "outputs": [
    {
     "name": "stdout",
     "output_type": "stream",
     "text": [
      "Nome: A\n",
      "Principal Composto: AB\n",
      "Laboratório: CD\n",
      "Descrição: FazNAda\n",
      "Necessita Receita: Sim\n",
      "Valor: 55.10\n"
     ]
    }
   ],
   "source": [
    "print(Teste_Fito)"
   ]
  },
  {
   "cell_type": "code",
   "execution_count": 23,
   "metadata": {},
   "outputs": [],
   "source": [
    "Teste_Fito = MedicamentoFitoterapico(\"A\", \"AB\", \"CD\", \"FazNAda\", valor=55.1)"
   ]
  },
  {
   "cell_type": "code",
   "execution_count": 24,
   "metadata": {},
   "outputs": [
    {
     "name": "stdout",
     "output_type": "stream",
     "text": [
      "Nome: A\n",
      "Principal Composto: AB\n",
      "Laboratório: CD\n",
      "Descrição: FazNAda\n",
      "Valor: 55.10\n"
     ]
    }
   ],
   "source": [
    "print(Teste_Fito)"
   ]
  },
  {
   "cell_type": "code",
   "execution_count": 28,
   "metadata": {},
   "outputs": [],
   "source": [
    "class Cadastro:\n",
    "    '''\n",
    "    A ideia dessa classe é armazenar tudo que foi feito nas outras classes, clientes, vendas e medicamentos.\n",
    "    Logo uma venda não poderá ser feita de um medicamento que não está cadastrado e um cliente sem cadastro não poderá comprar na farmácia.\n",
    "    No entanto poderá ser feito o cadastro na hora da compra tanto do cliente quanto do medicamento (porém esse último não faz tanto sentido)\n",
    "    '''\n",
    "\n",
    "    def __init__(self) -> None:\n",
    "        self.cadastro = {}\n",
    "    \n",
    "    def cadastrar_cliente(self, cpf:str, nome:str, data_nascimento:str) -> None:\n",
    "        if cpf in self.cadastro:\n",
    "            print(\"Cliente já cadastrado.\")\n",
    "        else:\n",
    "            cliente = Cliente(cpf,nome,data_nascimento)\n",
    "            self.cadastro[cpf] = cliente\n",
    "\n",
    "    def alterar_cadastro(self,cpf:str) -> None:\n",
    "\n",
    "        if cpf not in self.cadastro:\n",
    "            print(\"CPF não cadastrado.\")\n",
    "        \n",
    "        cliente = self.cadastro[cpf]\n",
    "        alteracao = int(input(\"Digite o número referente ao que deseja Alterar:\\n1 - Alterar nome Cadastrato\\n 2 - Alterar Data de Nascimento:\"))\n",
    "        \n",
    "        if alteracao == 1:\n",
    "            novo_nome = input('Digite o novo nome: ')\n",
    "            cliente.nome = novo_nome\n",
    "        elif alteracao == 2:\n",
    "            nova_data = input('Digite a nova data de nascimento: ')\n",
    "            cliente.data_nascimento = nova_data\n",
    "\n",
    "        self.cadastro[cliente.cpf] = cliente\n",
    "    \n",
    "    def __repr__(self) -> str:\n",
    "        repr_str = \"\"\n",
    "        for cpf, cliente in self.cadastro.items():\n",
    "            repr_str += f'CPF: {cpf}\\n{cliente}\\n'\n",
    "        return repr_str\n",
    "    \n",
    "    @staticmethod\n",
    "    def listar_clientes_por_nome(cadastro) -> None:\n",
    "        clientes_ordenados = sorted(cadastro.cadastro.values(), key=lambda cliente: cliente.nome)\n",
    "        \n",
    "        print(\"Lista de Clientes Cadastrados (Ordenados por Nome):\")\n",
    "        for cliente in clientes_ordenados:\n",
    "            print(cliente)\n"
   ]
  },
  {
   "cell_type": "code",
   "execution_count": 31,
   "metadata": {},
   "outputs": [
    {
     "name": "stdout",
     "output_type": "stream",
     "text": [
      "Lista de Clientes Cadastrados (Ordenados por Nome):\n",
      "CPF: 56789012300\n",
      "Nome: Carlos\n",
      "Data de Nascimento: 2010-11-03\n",
      "CPF: 12345678900\n",
      "Nome: João\n",
      "Data de Nascimento: 2010-01-15\n",
      "CPF: 98765432100\n",
      "Nome: Maria\n",
      "Data de Nascimento: 2005-06-20\n"
     ]
    }
   ],
   "source": [
    "cadastro = Cadastro()\n",
    "cadastro.cadastrar_cliente(\"12345678900\", \"João\", \"15/01/2010\")\n",
    "cadastro.cadastrar_cliente(\"98765432100\", \"Maria\", \"20/06/2005\")\n",
    "cadastro.cadastrar_cliente(\"56789012300\", \"Carlos\", \"03/11/2010\")\n",
    "\n",
    "Cadastro.listar_clientes_por_nome(cadastro)"
   ]
  },
  {
   "cell_type": "code",
   "execution_count": 34,
   "metadata": {},
   "outputs": [],
   "source": [
    "alteracao = int(input(\"\"\"Digite o número referente ao que deseja Alterar:\n",
    "1 - Alterar nome da Loja \n",
    "2 - Alterar Data de Nascimento:\"\"\"))"
   ]
  },
  {
   "cell_type": "code",
   "execution_count": 52,
   "metadata": {},
   "outputs": [],
   "source": [
    "class CadastroLaboratorio(Cadastro):\n",
    "    def __init__(self) -> None:\n",
    "        self.cadastros = {}\n",
    "\n",
    "    def cadastrar(self, nome: str, endereco: str, ddd:str,telefone: str, cidade: str, estado: str) -> None:\n",
    "        chave = nome + endereco\n",
    "        \n",
    "        if chave in self.cadastros:\n",
    "            print(\"Laboratório já cadastrado.\")\n",
    "        else:\n",
    "            laboratorio = Laboratorio(nome, endereco, ddd, telefone, cidade, estado)\n",
    "            self.cadastros[chave] = laboratorio\n",
    "\n",
    "    def alterar_cadastro(self, nome: str, endereco: str) -> None:\n",
    "        chave = nome + endereco\n",
    "        \n",
    "        if chave not in self.cadastros:\n",
    "            print(\"Laboratório não cadastrado.\")\n",
    "        \n",
    "        labo = self.cadastros[chave]\n",
    "        alteracao = int(input(\"\"\"Digite o número referente ao que deseja Alterar:\n",
    "                1 - Alterar nome da Loja. \n",
    "                2 - Alterar Endereço da Loja.\n",
    "                3 - Alterar DDD cadastrado.\n",
    "                4 - Alterar Telefone cadastrato.\n",
    "                5 - Alterar Cidade cadastrada.\n",
    "                6 - Alterar Estado cadastrado da Loja                  \n",
    "                \"\"\"))\n",
    "        if alteracao == 1:\n",
    "            novo_nome = input('Digite o novo nome: ')\n",
    "            labo.nome = novo_nome\n",
    "        elif alteracao == 2:\n",
    "            novo_endereco = input('Digite o novo endereço: ')\n",
    "            labo.endereco = novo_endereco\n",
    "        elif alteracao == 3:\n",
    "            novo_ddd = input('Digite o novo DDD: ')\n",
    "            labo.ddd = novo_ddd\n",
    "        elif alteracao == 4:\n",
    "            novo_telefone = input('Digite o novo Telefone: ')\n",
    "            labo.telefone = novo_telefone\n",
    "        elif alteracao == 5:\n",
    "            novo_cidade = input('Digite o novo Cidade: ')\n",
    "            labo.cidade = novo_cidade\n",
    "        elif alteracao == 6:\n",
    "            novo_estado = input('Digite o novo Estado: ')\n",
    "            labo.estado = novo_estado\n",
    "\n",
    "    def __repr__(self) -> str:\n",
    "        repr_str = \"\"\n",
    "        i = 0\n",
    "        for chave, labo in self.cadastros.items():\n",
    "            i += 1\n",
    "            repr_str += f'Loja Cadastrada {i}: \\n{labo}\\n'\n",
    "        return repr_str\n"
   ]
  },
  {
   "cell_type": "code",
   "execution_count": 53,
   "metadata": {},
   "outputs": [
    {
     "name": "stdout",
     "output_type": "stream",
     "text": [
      "Loja Cadastrada 1: \n",
      "Nome: Labo1\n",
      "Endereço: Endereco1\n",
      "DDD: 011\n",
      "Telefone: 123456789\n",
      "Cidade: Cidade1\n",
      "Estado: Estado1\n",
      "Loja Cadastrada 2: \n",
      "Nome: Labo2\n",
      "Endereço: Endereco2\n",
      "DDD: 021\n",
      "Telefone: 987654321\n",
      "Cidade: Cidade2\n",
      "Estado: Estado2\n",
      "\n"
     ]
    }
   ],
   "source": [
    "cadastro_laboratorio = CadastroLaboratorio()\n",
    "cadastro_laboratorio.cadastrar(\"Labo1\", \"Endereco1\", \"11\", \"123456789\", \"Cidade1\", \"Estado1\")\n",
    "cadastro_laboratorio.cadastrar(\"Labo2\", \"Endereco2\", \"21\", \"987654321\", \"Cidade2\", \"Estado2\")\n",
    "\n",
    "print(cadastro_laboratorio)"
   ]
  },
  {
   "cell_type": "code",
   "execution_count": 54,
   "metadata": {},
   "outputs": [
    {
     "ename": "AttributeError",
     "evalue": "'CadastroLaboratorio' object has no attribute 'cadastro'",
     "output_type": "error",
     "traceback": [
      "\u001b[1;31m---------------------------------------------------------------------------\u001b[0m",
      "\u001b[1;31mAttributeError\u001b[0m                            Traceback (most recent call last)",
      "Cell \u001b[1;32mIn[54], line 1\u001b[0m\n\u001b[1;32m----> 1\u001b[0m CadastroLaboratorio\u001b[39m.\u001b[39mlistar_clientes_por_nome(cadastro_laboratorio)\n",
      "Cell \u001b[1;32mIn[28], line 43\u001b[0m, in \u001b[0;36mCadastro.listar_clientes_por_nome\u001b[1;34m(cadastro)\u001b[0m\n\u001b[0;32m     41\u001b[0m \u001b[39m@staticmethod\u001b[39m\n\u001b[0;32m     42\u001b[0m \u001b[39mdef\u001b[39;00m \u001b[39mlistar_clientes_por_nome\u001b[39m(cadastro) \u001b[39m-\u001b[39m\u001b[39m>\u001b[39m \u001b[39mNone\u001b[39;00m:\n\u001b[1;32m---> 43\u001b[0m     clientes_ordenados \u001b[39m=\u001b[39m \u001b[39msorted\u001b[39m(cadastro\u001b[39m.\u001b[39mcadastro\u001b[39m.\u001b[39mvalues(), key\u001b[39m=\u001b[39m\u001b[39mlambda\u001b[39;00m cliente: cliente\u001b[39m.\u001b[39mnome)\n\u001b[0;32m     45\u001b[0m     \u001b[39mprint\u001b[39m(\u001b[39m\"\u001b[39m\u001b[39mLista de Clientes Cadastrados (Ordenados por Nome):\u001b[39m\u001b[39m\"\u001b[39m)\n\u001b[0;32m     46\u001b[0m     \u001b[39mfor\u001b[39;00m cliente \u001b[39min\u001b[39;00m clientes_ordenados:\n",
      "\u001b[1;31mAttributeError\u001b[0m: 'CadastroLaboratorio' object has no attribute 'cadastro'"
     ]
    }
   ],
   "source": [
    "CadastroLaboratorio.listar_clientes_por_nome(cadastro_laboratorio)"
   ]
  },
  {
   "cell_type": "code",
   "execution_count": 105,
   "metadata": {},
   "outputs": [],
   "source": [
    "class Cadastro:\n",
    "    '''\n",
    "    A ideia dessa classe é armazenar tudo que foi feito nas outras classes, clientes, vendas e medicamentos.\n",
    "    Logo uma venda não poderá ser feita de um medicamento que não está cadastrado e um cliente sem cadastro não poderá comprar na farmácia.\n",
    "    No entanto poderá ser feito o cadastro na hora da compra tanto do cliente quanto do medicamento (porém esse último não faz tanto sentido)\n",
    "    '''\n",
    "\n",
    "    def __init__(self) -> None:\n",
    "        self.cadastro = {}\n",
    "    \n",
    "    def cadastrar(self, cpf:str, nome:str, data_nascimento:str) -> None:\n",
    "        if cpf in self.cadastro:\n",
    "            print(\"Cliente já cadastrado.\")\n",
    "        else:\n",
    "            cliente = Cliente(cpf,nome,data_nascimento)\n",
    "            self.cadastro[cpf] = cliente\n",
    "\n",
    "    def alterar_cadastro(self,cpf:str) -> None:\n",
    "\n",
    "        if cpf not in self.cadastro:\n",
    "            print(\"CPF não cadastrado.\")\n",
    "        \n",
    "        cliente = self.cadastro[cpf]\n",
    "        alteracao = input(int(\"Digite o número referente ao que deseja Alterar:\\n1 - Alterar nome Cadastrato\\n 2 - Alterar Data de Nascimento:\"))\n",
    "        \n",
    "        if alteracao == 1:\n",
    "            novo_nome = input('Digite o novo nome: ')\n",
    "            cliente.nome = novo_nome\n",
    "        elif alteracao == 2:\n",
    "            nova_data = input('Digite a nova data de nascimento: ')\n",
    "            cliente.data_nascimento = nova_data\n",
    "\n",
    "        self.cadastro[cliente.cpf] = cliente\n",
    "    \n",
    "    def __repr__(self) -> str:\n",
    "        repr_str = \"\"\n",
    "        for cpf, cliente in self.cadastro.items():\n",
    "            repr_str += f'CPF: {cpf}\\n{cliente}\\n'\n",
    "        return repr_str\n",
    "\n",
    "    def mostrar_cadastro(cadastro) -> None:\n",
    "        cadastro_ordenado = sorted(cadastro.cadastro.values(), key=lambda objeto: objeto.nome)\n",
    "        \n",
    "        print(\"Lista de Cadastrados (Ordenados por Nome):\")\n",
    "        for obj in cadastro_ordenado:\n",
    "            print(obj)\n",
    "    \n",
    "class CadastroLaboratorio(Cadastro):\n",
    "    def __init__(self) -> None:\n",
    "        self.cadastros_labo = {}\n",
    "\n",
    "    def cadastrar(self, nome: str, endereco: str, ddd:str,telefone: str, cidade: str, estado: str) -> None:\n",
    "\n",
    "        if nome in self.cadastros_labo:\n",
    "            print(\"Laboratório já cadastrado.\")\n",
    "        else:\n",
    "            chave = nome + endereco\n",
    "            laboratorio = Laboratorio(nome,endereco,ddd,telefone,cidade,estado)\n",
    "            self.cadastros_labo[chave] = laboratorio\n",
    "\n",
    "    def alterar_cadastro(self,nome:str,endereco: str) -> None:\n",
    "        chave = nome + endereco\n",
    "        if chave not in self.cadastros_labo:\n",
    "            print(\"Loja não cadastrado.\")\n",
    "        \n",
    "        labo = self.cadastros_labo[chave]\n",
    "        alteracao = int(input(\"\"\"Digite o número referente ao que deseja Alterar:\n",
    "                1 - Alterar nome da Loja. \n",
    "                2 - Alterar Endereço da Loja.\n",
    "                3 - Alterar DDD cadastrado.\n",
    "                4 - Alterar Telefone cadastrato.\n",
    "                5 - Alterar Cidade cadastrada.\n",
    "                6 - Alterar Estado cadastrado da Loja                  \n",
    "                \"\"\"))\n",
    "        if alteracao == 1:\n",
    "            novo_nome = input('Digite o novo nome: ')\n",
    "            labo.nome = novo_nome\n",
    "        elif alteracao == 2:\n",
    "            novo_endereco = input('Digite o novo endereço: ')\n",
    "            labo.endereco = novo_endereco\n",
    "        elif alteracao == 3:\n",
    "            novo_ddd = input('Digite o novo DDD: ')\n",
    "            labo.ddd = novo_ddd\n",
    "        elif alteracao == 4:\n",
    "            novo_telefone = input('Digite o novo Telefone: ')\n",
    "            labo.telefone = novo_telefone\n",
    "        elif alteracao == 5:\n",
    "            novo_cidade = input('Digite o novo Cidade: ')\n",
    "            labo.cidade = novo_cidade\n",
    "        elif alteracao == 6:\n",
    "            novo_estado = input('Digite o novo Estado: ')\n",
    "            labo.estado = novo_estado\n",
    "\n",
    "        self.cadastros_labo[labo.chave] = labo\n",
    "\n",
    "    def __repr__(self) -> str:\n",
    "        repr_str = \"\"\n",
    "        i = 0\n",
    "        for labo in self.cadastros_labo.values():\n",
    "            i += 1\n",
    "            repr_str += f'Loja Cadastrada {i}: \\n{labo}\\n'\n",
    "        return repr_str"
   ]
  },
  {
   "cell_type": "code",
   "execution_count": 110,
   "metadata": {},
   "outputs": [
    {
     "ename": "AttributeError",
     "evalue": "'CadastroLaboratorio' object has no attribute 'cadastro'",
     "output_type": "error",
     "traceback": [
      "\u001b[1;31m---------------------------------------------------------------------------\u001b[0m",
      "\u001b[1;31mAttributeError\u001b[0m                            Traceback (most recent call last)",
      "Cell \u001b[1;32mIn[110], line 4\u001b[0m\n\u001b[0;32m      2\u001b[0m cadastro_laboratorio\u001b[39m.\u001b[39mcadastrar(\u001b[39m\"\u001b[39m\u001b[39mLabo3\u001b[39m\u001b[39m\"\u001b[39m, \u001b[39m\"\u001b[39m\u001b[39mEndereco1\u001b[39m\u001b[39m\"\u001b[39m, \u001b[39m\"\u001b[39m\u001b[39m11\u001b[39m\u001b[39m\"\u001b[39m, \u001b[39m\"\u001b[39m\u001b[39m123456789\u001b[39m\u001b[39m\"\u001b[39m, \u001b[39m\"\u001b[39m\u001b[39mCidade1\u001b[39m\u001b[39m\"\u001b[39m, \u001b[39m\"\u001b[39m\u001b[39mEstado1\u001b[39m\u001b[39m\"\u001b[39m)\n\u001b[0;32m      3\u001b[0m cadastro_laboratorio\u001b[39m.\u001b[39mcadastrar(\u001b[39m\"\u001b[39m\u001b[39mLabo4\u001b[39m\u001b[39m\"\u001b[39m, \u001b[39m\"\u001b[39m\u001b[39mEndereco2\u001b[39m\u001b[39m\"\u001b[39m, \u001b[39m\"\u001b[39m\u001b[39m21\u001b[39m\u001b[39m\"\u001b[39m, \u001b[39m\"\u001b[39m\u001b[39m987654321\u001b[39m\u001b[39m\"\u001b[39m, \u001b[39m\"\u001b[39m\u001b[39mCidade2\u001b[39m\u001b[39m\"\u001b[39m, \u001b[39m\"\u001b[39m\u001b[39mEstado2\u001b[39m\u001b[39m\"\u001b[39m)\n\u001b[1;32m----> 4\u001b[0m Cadastro\u001b[39m.\u001b[39mmostrar_cadastro(cadastro_laboratorio)\n",
      "Cell \u001b[1;32mIn[105], line 42\u001b[0m, in \u001b[0;36mCadastro.mostrar_cadastro\u001b[1;34m(cadastro)\u001b[0m\n\u001b[0;32m     41\u001b[0m \u001b[39mdef\u001b[39;00m \u001b[39mmostrar_cadastro\u001b[39m(cadastro) \u001b[39m-\u001b[39m\u001b[39m>\u001b[39m \u001b[39mNone\u001b[39;00m:\n\u001b[1;32m---> 42\u001b[0m     cadastro_ordenado \u001b[39m=\u001b[39m \u001b[39msorted\u001b[39m(cadastro\u001b[39m.\u001b[39mcadastro\u001b[39m.\u001b[39mvalues(), key\u001b[39m=\u001b[39m\u001b[39mlambda\u001b[39;00m objeto: objeto\u001b[39m.\u001b[39mnome)\n\u001b[0;32m     44\u001b[0m     \u001b[39mprint\u001b[39m(\u001b[39m\"\u001b[39m\u001b[39mLista de Cadastrados (Ordenados por Nome):\u001b[39m\u001b[39m\"\u001b[39m)\n\u001b[0;32m     45\u001b[0m     \u001b[39mfor\u001b[39;00m obj \u001b[39min\u001b[39;00m cadastro_ordenado:\n",
      "\u001b[1;31mAttributeError\u001b[0m: 'CadastroLaboratorio' object has no attribute 'cadastro'"
     ]
    }
   ],
   "source": [
    "cadastro_laboratorio = CadastroLaboratorio()\n",
    "cadastro_laboratorio.cadastrar(\"Labo3\", \"Endereco1\", \"11\", \"123456789\", \"Cidade1\", \"Estado1\")\n",
    "cadastro_laboratorio.cadastrar(\"Labo4\", \"Endereco2\", \"21\", \"987654321\", \"Cidade2\", \"Estado2\")\n",
    "Cadastro.mostrar_cadastro(cadastro_laboratorio)"
   ]
  },
  {
   "cell_type": "code",
   "execution_count": 111,
   "metadata": {},
   "outputs": [
    {
     "name": "stdout",
     "output_type": "stream",
     "text": [
      "Loja Cadastrada 1: \n",
      "Nome: Labo3\n",
      "Endereço: Endereco1\n",
      "DDD: 011\n",
      "Telefone: 123456789\n",
      "Cidade: Cidade1\n",
      "Estado: Estado1\n",
      "Loja Cadastrada 2: \n",
      "Nome: Labo4\n",
      "Endereço: Endereco2\n",
      "DDD: 021\n",
      "Telefone: 987654321\n",
      "Cidade: Cidade2\n",
      "Estado: Estado2\n",
      "\n"
     ]
    }
   ],
   "source": [
    "print(cadastro_laboratorio)"
   ]
  },
  {
   "cell_type": "code",
   "execution_count": 121,
   "metadata": {},
   "outputs": [],
   "source": [
    "from datetime import date,datetime\n",
    "import re\n",
    "\n",
    "class Cliente:\n",
    "    '''\n",
    "    A classe cliente irá receber informações de CPF no formato xxxxxxxxxxx, sem caracteres especiais ou caracteres de texo.\n",
    "    A informação de nome não pode conter valores númericos.\n",
    "    Os valores de data precisam ser inseridor no formado dd/mm/yyyy\n",
    "    '''\n",
    "\n",
    "    def __init__(self,cpf:str,nome:str,data_nascimento:str) -> None:\n",
    "        cpf = self.__normalizador_cpf(cpf)\n",
    "\n",
    "        if self.__validador_cpf(cpf):\n",
    "            self.cpf = cpf\n",
    "        else:\n",
    "            raise ValueError (\"CPF inválido. Digite somente os números do CPF ou complete o CPF.\")\n",
    "        \n",
    "        if not self.__validador_nome(nome):\n",
    "            raise ValueError(\"Nome inválido. Digite o nome, sem nenhum  número e sem caracter especial.\")\n",
    "        else:\n",
    "            self.nome = nome\n",
    "\n",
    "        try:\n",
    "            self.data_nascimento = self.__transform_data(data_nascimento)\n",
    "        except ValueError:\n",
    "            raise ValueError(\"Data inválida. Digite a data no formato dd/mm/yyyy\")\n",
    "\n",
    "    def __repr__(self) -> str:\n",
    "        return f'CPF: {self.cpf}\\nNome: {self.nome}\\nData de Nascimento: {self.data_nascimento}'\n",
    "    \n",
    "    def __normalizador_cpf (self,cpf:str) -> str:\n",
    "        return ''.join(filter(str.isdigit,cpf))\n",
    "\n",
    "    def __validador_cpf(self,cpf:str) -> bool:\n",
    "        return len(cpf) == 11\n",
    "    \n",
    "    def __validador_nome(self, nome: str) -> bool:\n",
    "        regex = r'^[A-Za-zÀ-ÖØ-öø-ÿ\\s]+$'\n",
    "        return re.match(regex, nome) is not None\n",
    "\n",
    "    def __transform_data(self,data) -> date:\n",
    "        return datetime.strptime(data, '%d/%m/%Y').date()"
   ]
  },
  {
   "cell_type": "code",
   "execution_count": 126,
   "metadata": {},
   "outputs": [
    {
     "name": "stdout",
     "output_type": "stream",
     "text": [
      "Lista de Cadastrados (Ordenados por Nome):\n",
      "CPF: 22222222222\n",
      "Nome: Cliente Castro\n",
      "Data de Nascimento: 1995-02-02\n",
      "CPF: 33333333333\n",
      "Nome: Cliente Castro\n",
      "Data de Nascimento: 2000-03-03\n",
      "CPF: 11111111111\n",
      "Nome: Cliente Cãstro\n",
      "Data de Nascimento: 1990-01-01\n"
     ]
    }
   ],
   "source": [
    "cadastro_clientes = Cadastro()\n",
    "cadastro_clientes.cadastrar(\"11111111111\", \"Cliente Cãstro\", \"01/01/1990\")\n",
    "cadastro_clientes.cadastrar(\"22222222222\", \"Cliente Castro\", \"02/02/1995\")\n",
    "cadastro_clientes.cadastrar(\"33333333333\", \"Cliente Castro\", \"03/03/2000\")\n",
    "\n",
    "cadastro_clientes.mostrar_cadastro()"
   ]
  },
  {
   "cell_type": "code",
   "execution_count": null,
   "metadata": {},
   "outputs": [],
   "source": []
  }
 ],
 "metadata": {
  "kernelspec": {
   "display_name": "base",
   "language": "python",
   "name": "python3"
  },
  "language_info": {
   "codemirror_mode": {
    "name": "ipython",
    "version": 3
   },
   "file_extension": ".py",
   "mimetype": "text/x-python",
   "name": "python",
   "nbconvert_exporter": "python",
   "pygments_lexer": "ipython3",
   "version": "3.11.3"
  },
  "orig_nbformat": 4
 },
 "nbformat": 4,
 "nbformat_minor": 2
}
