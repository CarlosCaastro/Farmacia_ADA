{
 "cells": [
  {
   "cell_type": "code",
   "execution_count": 15,
   "metadata": {},
   "outputs": [],
   "source": [
    "from datetime import date,datetime\n",
    "class Cliente:\n",
    "    '''\n",
    "    A classe cliente irá receber informações de CPF no formato xxxxxxxxxxx, sem caracteres especiais ou caracteres de texo.\n",
    "    A informação de nome não pode conter valores númericos.\n",
    "    Os valores de data precisam ser inseridor no formado dd/mm/yyyy\n",
    "    '''\n",
    "    def __init__(self,cpf:str,nome:str,data_nascimento:str) -> None:\n",
    "        cpf = self.__normalizador_cpf(cpf)\n",
    "\n",
    "        if self.__validador_cpf(cpf):\n",
    "            self.cpf = cpf\n",
    "        else:\n",
    "            raise ValueError (\"CPF inválido. Digite somente os números do CPF ou complete o CPF.\")\n",
    "        \n",
    "        if not self.__validador_nome(nome):\n",
    "            raise ValueError(\"Nome inválido. Digite o nome, sem nenhum  número e sem caracter especial.\")\n",
    "        else:\n",
    "            self.nome = nome\n",
    "\n",
    "        try:\n",
    "            self.data_nascimento = self.__transform_data(data_nascimento)\n",
    "        except ValueError:\n",
    "            raise ValueError(\"Data inválida. Digite a data no formato dd/mm/yyyy\")\n",
    "\n",
    "    def __repr__(self) -> str:\n",
    "        return f'CPF: {self.cpf}\\nNome: {self.nome}\\nData de Nascimento: {self.data_nascimento}'\n",
    "    \n",
    "    def __normalizador_cpf (self,cpf:str) -> str:\n",
    "        return ''.join(filter(str.isdigit,cpf))\n",
    "\n",
    "    def __validador_cpf(self,cpf:str) -> bool:\n",
    "        return len(cpf) == 11\n",
    "    \n",
    "    def __validador_nome(self,nome:str) -> bool:\n",
    "        return nome.isalpha()\n",
    "\n",
    "    def __transform_data(self,data) -> date:\n",
    "        return datetime.strptime(data, '%d/%m/%Y').date()"
   ]
  },
  {
   "cell_type": "code",
   "execution_count": 22,
   "metadata": {},
   "outputs": [],
   "source": [
    "testeee3 = Cliente('062.801.193-86','Carlos','11/12/2012')"
   ]
  },
  {
   "cell_type": "code",
   "execution_count": 23,
   "metadata": {},
   "outputs": [
    {
     "name": "stdout",
     "output_type": "stream",
     "text": [
      "CPF: 06280119386\n",
      "Nome: Carlos\n",
      "Data de Nascimento: 2012-12-11\n"
     ]
    }
   ],
   "source": [
    "print(testeee3.data_nascimento)"
   ]
  },
  {
   "cell_type": "code",
   "execution_count": 25,
   "metadata": {},
   "outputs": [],
   "source": [
    "class Cadastro:\n",
    "    def __init__(self) -> None:\n",
    "        self.cadastro = {}\n",
    "    \n",
    "    def cadastrar_cliente(self, cpf:str, nome:str, data_nascimento:str) -> None:\n",
    "        if cpf in self.cadastro:\n",
    "            print(\"Cliente já cadastrado.\")\n",
    "        else:\n",
    "            cliente = Cliente(cpf,nome,data_nascimento)\n",
    "            self.cadastro[cpf] = cliente\n",
    "\n",
    "    def alterar_cadastro(self,cpf:str) -> None:\n",
    "\n",
    "        if cpf not in self.cadastro:\n",
    "            print(\"CPF não cadastrado.\")\n",
    "        \n",
    "        cliente = self.cadastro[cpf]\n",
    "        alteracao = input(int(\"Digite o número referente ao que deseja Alterar:\\n1 - Alterar nome Cadastrato\\n 2 - Alterar Data de Nascimento:\"))\n",
    "        \n",
    "        if alteracao == 1:\n",
    "            novo_nome = input('Digite o novo nome: ')\n",
    "            cliente.nome = novo_nome\n",
    "        elif alteracao == 2:\n",
    "            nova_data = input('Digite a nova data de nascimento: ')\n",
    "            cliente.data_nascimento = nova_data\n",
    "\n",
    "        self.cadastro[cliente.cpf] = cliente\n",
    "    \n",
    "    def __repr__(self) -> str:\n",
    "        repr_str = \"\"\n",
    "        for cpf, cliente in self.cadastro.items():\n",
    "            repr_str += f'CPF: {cpf}\\n{cliente}\\n'\n",
    "        return repr_str"
   ]
  },
  {
   "cell_type": "code",
   "execution_count": 61,
   "metadata": {},
   "outputs": [],
   "source": [
    "class Medicamento:\n",
    "    '''\n",
    "    Classe principal de medicamentos de onde as classes Medicamentos Quimioterápicos e Medicamentos Fitoterápicos\n",
    "    irão herdar seus atributos e métodos principais.\n",
    "    '''\n",
    "\n",
    "    def __init__(self,nome:str,principal_composto:str,laboratorio:str,descricao:str,necessita_receita:str = \"Não\",valor: float = 0.0) ->None:\n",
    "        self.nome = nome\n",
    "        self.principal_composto = principal_composto\n",
    "        self.laboratorio = laboratorio\n",
    "        self.descricao = descricao\n",
    "        self.necessita_receita = necessita_receita\n",
    "        self.__valor = valor\n",
    "\n",
    "    @property\n",
    "    def get_valor(self) -> float:\n",
    "        return self.__valor\n",
    "    \n",
    "    @get_valor.setter\n",
    "    def set_valor(self, novo_valor: float) -> None:\n",
    "        if novo_valor >= 0:\n",
    "            self.__valor = novo_valor\n",
    "        else:\n",
    "            print(\"O valor do medicamento não pode ser negativo.\")\n",
    "    \n",
    "    def __repr__(self) -> str:\n",
    "        receita = \"Sim\" if self.necessita_receita else \"Não\"\n",
    "        return f'Nome: {self.nome}\\nPrincipal Composto: {self.principal_composto}\\nLaboratório: {self.laboratorio}\\nDescrição: {self.descricao}\\nNecessita Receita: {receita}\\nValor: {self.__valor:.2f}'\n",
    "    \n",
    "class MedicamentoQuimioterapico(Medicamento):\n",
    "    def __init__(self, nome: str, principal_composto: str, laboratorio: str, descricao: str, necessita_receita: str = \"Sim\", valor: float = 0.0) -> None:\n",
    "        super().__init__(nome, principal_composto, laboratorio, descricao, necessita_receita, valor)\n",
    "    \n",
    "    @Medicamento.set_valor.setter\n",
    "    def valor(self, novo_valor: float) -> None:\n",
    "        if novo_valor >= 0:\n",
    "            self._Medicamento__valor = novo_valor\n",
    "        else:\n",
    "            print(\"O valor do medicamento não pode ser negativo.\")\n",
    "\n",
    "class MedicamentoFitoterapico(Medicamento):\n",
    "    def __init__(self, nome: str, principal_composto: str, laboratorio: str, descricao: str, necessita_receita: str = \"Não\", valor: float = 0.0) -> None:\n",
    "        super().__init__(nome, principal_composto, laboratorio, descricao, necessita_receita, valor)\n",
    "    \n",
    "    @Medicamento.set_valor.setter\n",
    "    def valor(self, novo_valor: float) -> None:\n",
    "        if novo_valor >= 0:\n",
    "            self._Medicamento__valor = novo_valor\n",
    "        else:\n",
    "            print(\"O valor do medicamento não pode ser negativo.\")"
   ]
  },
  {
   "cell_type": "code",
   "execution_count": 36,
   "metadata": {},
   "outputs": [
    {
     "name": "stdout",
     "output_type": "stream",
     "text": [
      "Nome: A\n",
      "Principal Composto: AB\n",
      "Laboratório: CD\n",
      "Descrição: FazNAda\n",
      "Necessita Receita: Sim\n",
      "Valor: 55.10\n"
     ]
    }
   ],
   "source": [
    "\n",
    "Teste_Quimo = MedicamentoQuimioterapico(\"A\", \"AB\", \"CD\", \"FazNAda\", valor=55.1)\n",
    "print(Teste_Quimo)"
   ]
  },
  {
   "cell_type": "code",
   "execution_count": 41,
   "metadata": {},
   "outputs": [],
   "source": [
    "Teste_Quimo.valor = 20.5"
   ]
  },
  {
   "cell_type": "code",
   "execution_count": 62,
   "metadata": {},
   "outputs": [
    {
     "name": "stdout",
     "output_type": "stream",
     "text": [
      "Nome: A\n",
      "Principal Composto: AB\n",
      "Laboratório: CD\n",
      "Descrição: FazNAda\n",
      "Necessita Receita: Sim\n",
      "Valor: 55.10\n",
      "Medicamento após a alteração:\n",
      "Nome: A\n",
      "Principal Composto: AB\n",
      "Laboratório: CD\n",
      "Descrição: FazNAda\n",
      "Necessita Receita: Sim\n",
      "Valor: 20.00\n"
     ]
    }
   ],
   "source": [
    "Teste_Fito = MedicamentoFitoterapico(\"A\", \"AB\", \"CD\", \"FazNAda\", valor=55.1)\n",
    "print(Teste_Fito)\n",
    "\n",
    "novo_valor = float(input(\"Digite o novo valor do medicamento: \"))\n",
    "Teste_Fito.valor = novo_valor\n",
    "\n",
    "print(\"Medicamento após a alteração:\")\n",
    "print(Teste_Fito)"
   ]
  },
  {
   "cell_type": "code",
   "execution_count": null,
   "metadata": {},
   "outputs": [],
   "source": []
  }
 ],
 "metadata": {
  "language_info": {
   "name": "python"
  },
  "orig_nbformat": 4
 },
 "nbformat": 4,
 "nbformat_minor": 2
}
